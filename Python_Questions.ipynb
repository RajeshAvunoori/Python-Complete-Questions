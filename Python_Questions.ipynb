{
  "nbformat": 4,
  "nbformat_minor": 0,
  "metadata": {
    "colab": {
      "provenance": []
    },
    "kernelspec": {
      "name": "python3",
      "display_name": "Python 3"
    },
    "language_info": {
      "name": "python"
    }
  },
  "cells": [
    {
      "cell_type": "markdown",
      "source": [
        "1. Write a Python program to reverse a string without using any built-in string reversal functions"
      ],
      "metadata": {
        "id": "hdoN4C3S8oBZ"
      }
    },
    {
      "cell_type": "code",
      "execution_count": null,
      "metadata": {
        "colab": {
          "base_uri": "https://localhost:8080/"
        },
        "id": "rndJp5V92NXG",
        "outputId": "cbfe8732-8b57-4ef1-acf5-aa511f892f98"
      },
      "outputs": [
        {
          "output_type": "stream",
          "name": "stdout",
          "text": [
            "olleH\n"
          ]
        }
      ],
      "source": [
        "def reverse_string(a):\n",
        "  rev = str()\n",
        "  for i in a:\n",
        "    rev = i + rev\n",
        "  return rev\n",
        "\n",
        "a = 'Hello'\n",
        "result = reverse_string(a)\n",
        "print(result)"
      ]
    },
    {
      "cell_type": "markdown",
      "source": [
        "2. Implement a function to check if a given string is a palindrome.\n"
      ],
      "metadata": {
        "id": "4rGzepz1-OUT"
      }
    },
    {
      "cell_type": "code",
      "source": [
        "def palindromecheck(a):\n",
        "  rev = str()\n",
        "  for i in a:\n",
        "    rev = i.lower() + rev\n",
        "  if rev == a.lower():\n",
        "    return True\n",
        "  else:\n",
        "    return -1\n",
        "\n",
        "a = 'Nitin'\n",
        "result = palindromecheck(a)\n",
        "print(result)\n"
      ],
      "metadata": {
        "colab": {
          "base_uri": "https://localhost:8080/"
        },
        "id": "8YiRsvOJ9-4T",
        "outputId": "2cddcdea-ef75-4c62-b388-7a3e8f10f69a"
      },
      "execution_count": null,
      "outputs": [
        {
          "output_type": "stream",
          "name": "stdout",
          "text": [
            "True\n"
          ]
        }
      ]
    },
    {
      "cell_type": "markdown",
      "source": [
        "3. Write a program to find the largest element in a given list."
      ],
      "metadata": {
        "id": "JS4s3-LfP2PP"
      }
    },
    {
      "cell_type": "code",
      "source": [
        "def largest_element(l):\n",
        "  l.sort()\n",
        "  return l[-1]\n",
        "\n",
        "l = [1,3,4,25,5,100]\n",
        "result = largest_element(l)\n",
        "print(result)"
      ],
      "metadata": {
        "colab": {
          "base_uri": "https://localhost:8080/"
        },
        "id": "AEz-aI54O7_6",
        "outputId": "127aa6aa-f5a5-48e9-cae5-fe092f164b42"
      },
      "execution_count": null,
      "outputs": [
        {
          "output_type": "stream",
          "name": "stdout",
          "text": [
            "100\n"
          ]
        }
      ]
    },
    {
      "cell_type": "markdown",
      "source": [
        "4. Implement a function to count the occurrence of each element in a list"
      ],
      "metadata": {
        "id": "uv1msUPqSF40"
      }
    },
    {
      "cell_type": "code",
      "source": [
        "def count_occurrences(list):\n",
        "  counts = {}\n",
        "  for element in list:\n",
        "    if element in counts:\n",
        "      counts[element] += 1\n",
        "    else:\n",
        "      counts[element] = 1\n",
        "  return counts\n",
        "\n",
        "list = [1, 2, 3, 2, 1, 5, 1]\n",
        "result = count_occurrences(list)\n",
        "print(result)"
      ],
      "metadata": {
        "id": "3vBXjST2P0-g",
        "colab": {
          "base_uri": "https://localhost:8080/"
        },
        "outputId": "2d720a5c-bd25-45ba-b9e9-438d657e3304"
      },
      "execution_count": 26,
      "outputs": [
        {
          "output_type": "stream",
          "name": "stdout",
          "text": [
            "{1: 3, 2: 2, 3: 1, 5: 1}\n"
          ]
        }
      ]
    },
    {
      "cell_type": "markdown",
      "source": [
        "5. Write a Python program to find the second largest number in a list.\n"
      ],
      "metadata": {
        "id": "xAruNwXySLtz"
      }
    },
    {
      "cell_type": "code",
      "source": [
        "def Second_largest_element(l):\n",
        "  l.sort()\n",
        "  return l[-2]\n",
        "\n",
        "l = [1,3,4,25,5,100]\n",
        "result = Second_largest_element(l)\n",
        "print(result)"
      ],
      "metadata": {
        "colab": {
          "base_uri": "https://localhost:8080/"
        },
        "id": "WKtLwgXlSMWA",
        "outputId": "c231ddc2-87d3-45e9-c16c-9268d5eb32b5"
      },
      "execution_count": null,
      "outputs": [
        {
          "output_type": "stream",
          "name": "stdout",
          "text": [
            "25\n"
          ]
        }
      ]
    },
    {
      "cell_type": "markdown",
      "source": [
        "6. Implement a function to remove duplicate elements from a list.\n"
      ],
      "metadata": {
        "id": "rgFLWvDhSX0c"
      }
    },
    {
      "cell_type": "code",
      "source": [
        "def remove_duplicates(l):\n",
        "  return(list(set(l)))\n",
        "\n",
        "l = [1,3,3,5,1,4,4,4,25,5,100]\n",
        "result = remove_duplicates(l)\n",
        "print(result)"
      ],
      "metadata": {
        "colab": {
          "base_uri": "https://localhost:8080/"
        },
        "id": "D5PpR8M8SSyv",
        "outputId": "64e2535b-ebcd-4430-b4f8-1ed7d343eaa7"
      },
      "execution_count": null,
      "outputs": [
        {
          "output_type": "stream",
          "name": "stdout",
          "text": [
            "[1, 3, 4, 5, 100, 25]\n"
          ]
        }
      ]
    },
    {
      "cell_type": "markdown",
      "source": [
        "7. Write a program to calculate the factorial of a given number.\n"
      ],
      "metadata": {
        "id": "Onhsz6MAS2dP"
      }
    },
    {
      "cell_type": "code",
      "source": [
        "def factorial(num):\n",
        "  if num == 1:\n",
        "    return 1\n",
        "  else:\n",
        "    return num*factorial(num-1)\n",
        "\n",
        "\n",
        "num = 5\n",
        "result = factorial(num)\n",
        "print(result)"
      ],
      "metadata": {
        "colab": {
          "base_uri": "https://localhost:8080/"
        },
        "id": "EGj0u6hESzh9",
        "outputId": "8075ccd1-1ef2-4fe4-9637-4f5c920c0c82"
      },
      "execution_count": null,
      "outputs": [
        {
          "output_type": "stream",
          "name": "stdout",
          "text": [
            "120\n"
          ]
        }
      ]
    },
    {
      "cell_type": "markdown",
      "source": [
        "8. Implement a function to check if a given number is prime.\n"
      ],
      "metadata": {
        "id": "kI5ZzfyPWD21"
      }
    },
    {
      "cell_type": "code",
      "source": [
        "def PrimeCheck(num):\n",
        "  if num<=1:\n",
        "    return False\n",
        "  for i in range(2,int(num**0.5)+1):\n",
        "      if (num%i) == 0:\n",
        "        return False\n",
        "  return True\n",
        "\n",
        "num = 7\n",
        "result  = PrimeCheck(num)\n",
        "print(result)"
      ],
      "metadata": {
        "colab": {
          "base_uri": "https://localhost:8080/"
        },
        "id": "UWHyg5qDTvO5",
        "outputId": "eb83a296-1a89-4545-e9b4-e2ef468ae642"
      },
      "execution_count": 25,
      "outputs": [
        {
          "output_type": "stream",
          "name": "stdout",
          "text": [
            "True\n"
          ]
        }
      ]
    },
    {
      "cell_type": "markdown",
      "source": [
        " 9. Write a Python program to sort a list of integers in ascending order"
      ],
      "metadata": {
        "id": "oIz-q6nKb6Kq"
      }
    },
    {
      "cell_type": "code",
      "source": [
        "def ascendingOrder(l):\n",
        "  l.sort()\n",
        "  return l\n",
        "\n",
        "l = [1,3,4,25,5,100]\n",
        "result = ascendingOrder(l)\n",
        "print(result)"
      ],
      "metadata": {
        "colab": {
          "base_uri": "https://localhost:8080/"
        },
        "id": "4gAwtfokX_C1",
        "outputId": "fee37b5e-9eb2-4d24-bfa8-9608e1bb8526"
      },
      "execution_count": null,
      "outputs": [
        {
          "output_type": "stream",
          "name": "stdout",
          "text": [
            "[1, 3, 4, 5, 25, 100]\n"
          ]
        }
      ]
    },
    {
      "cell_type": "markdown",
      "source": [
        "10. Implement a function to find the sum of all numbers in a list.\n"
      ],
      "metadata": {
        "id": "xHOAlbacg94m"
      }
    },
    {
      "cell_type": "code",
      "source": [
        "def sumofelements(l):\n",
        "  sum = 0\n",
        "  for i in l:\n",
        "    sum = i+sum\n",
        "  return sum\n",
        "\n",
        "\n",
        "l = [1,3,4,25,5,100]\n",
        "result = sumofelements(l)\n",
        "print(result)"
      ],
      "metadata": {
        "colab": {
          "base_uri": "https://localhost:8080/"
        },
        "id": "JhQXds9iY7fU",
        "outputId": "8bd94042-7489-490a-83df-9c41831aea53"
      },
      "execution_count": null,
      "outputs": [
        {
          "output_type": "stream",
          "name": "stdout",
          "text": [
            "138\n"
          ]
        }
      ]
    },
    {
      "cell_type": "markdown",
      "source": [
        "11. Write a program to find the common elements between two lists."
      ],
      "metadata": {
        "id": "RALulfjaiIPr"
      }
    },
    {
      "cell_type": "code",
      "source": [
        "def find_common_elements(list1, list2):\n",
        "  common_elements = []\n",
        "  for element in list1:\n",
        "    if element in list2:\n",
        "      common_elements.append(element)\n",
        "  return common_elements\n",
        "\n",
        "list1 = [1, 2, 3, 4, 5]\n",
        "list2 = [2, 3, 5, 6, 7]\n",
        "result = find_common_elements(list1, list2)\n",
        "print(result)"
      ],
      "metadata": {
        "id": "H2jqidoCfHnQ",
        "colab": {
          "base_uri": "https://localhost:8080/"
        },
        "outputId": "73c49347-81d5-4038-bd6e-540ba85b5650"
      },
      "execution_count": 21,
      "outputs": [
        {
          "output_type": "stream",
          "name": "stdout",
          "text": [
            "[2, 3, 5]\n"
          ]
        }
      ]
    },
    {
      "cell_type": "markdown",
      "source": [
        "12. Implement a function to check if a given string is an anagram of another string.\n"
      ],
      "metadata": {
        "id": "V8LDzSUWieQy"
      }
    },
    {
      "cell_type": "code",
      "source": [
        "def anagram(l1,l2):\n",
        "  if sorted(l1) == sorted(l2):\n",
        "    print('Its anagram')\n",
        "  else:\n",
        "    print('Not anagram')\n",
        "\n",
        "l1 = 'abcd'\n",
        "l2 = 'dabc'\n",
        "result = anagram(l1,l2)\n",
        "result"
      ],
      "metadata": {
        "colab": {
          "base_uri": "https://localhost:8080/"
        },
        "id": "BubQDqunig--",
        "outputId": "0852a0bb-61d5-4033-8b88-67ae857120a2"
      },
      "execution_count": null,
      "outputs": [
        {
          "output_type": "stream",
          "name": "stdout",
          "text": [
            "Its anagram\n"
          ]
        }
      ]
    },
    {
      "cell_type": "markdown",
      "source": [
        "13. Write a Python program to generate all permutations of a given string.\n"
      ],
      "metadata": {
        "id": "L7ZM9ymVk8xY"
      }
    },
    {
      "cell_type": "code",
      "source": [
        "def toString(List):\n",
        "    return ''.join(List)\n",
        "\n",
        "def permute(a, l, r):\n",
        "\tif l == r:\n",
        "\t\tprint(toString(a))\n",
        "\telse:\n",
        "\t\tfor i in range(l, r + 1):\n",
        "\t\t\ta[l], a[i] = a[i], a[l]\n",
        "\t\t\tpermute(a, l + 1, r)\n",
        "\n",
        "\t\t\ta[l], a[i] = a[i], a[l]\n",
        "\n",
        "\n",
        "string = \"ABC\"\n",
        "n = len(string)\n",
        "a = list(string)\n",
        "permute(a, 0, n-1)\n",
        "\n"
      ],
      "metadata": {
        "colab": {
          "base_uri": "https://localhost:8080/"
        },
        "id": "Vhno2sr6kX0i",
        "outputId": "270a6124-b8ca-4a62-e125-962fa3cfc6fc"
      },
      "execution_count": null,
      "outputs": [
        {
          "output_type": "stream",
          "name": "stdout",
          "text": [
            "ABC\n",
            "ACB\n",
            "BAC\n",
            "BCA\n",
            "CBA\n",
            "CAB\n"
          ]
        }
      ]
    },
    {
      "cell_type": "markdown",
      "source": [
        "14. Implement a function to calculate the Fibonacci sequence up to a given number of terms.\n"
      ],
      "metadata": {
        "id": "j5oFiI86pHWs"
      }
    },
    {
      "cell_type": "code",
      "source": [
        "def fibonacci(n):\n",
        "  if n == 0:\n",
        "    return 0\n",
        "  elif n == 1:\n",
        "    return 1\n",
        "  else:\n",
        "    return fibonacci(n-1) + fibonacci(n-2)\n",
        "\n",
        "n = 7\n",
        "result = fibonacci(n)\n",
        "print(result)"
      ],
      "metadata": {
        "colab": {
          "base_uri": "https://localhost:8080/"
        },
        "id": "exjgX5Xpkc0P",
        "outputId": "c7de9284-769e-447b-9569-7313697b84cb"
      },
      "execution_count": null,
      "outputs": [
        {
          "output_type": "stream",
          "name": "stdout",
          "text": [
            "13\n"
          ]
        }
      ]
    },
    {
      "cell_type": "markdown",
      "source": [
        "15. Write a program to find the median of a list of numbers.\n"
      ],
      "metadata": {
        "id": "Oxn4LFKlsDNv"
      }
    },
    {
      "cell_type": "code",
      "source": [
        "def median(l,length):\n",
        "  l.sort()\n",
        "  b = length-1\n",
        "  if length%2 == 0:\n",
        "    return(((l[b//2]+l[(b//2)+1]))/2)\n",
        "  else:\n",
        "    return(l[b//2])\n",
        "\n",
        "l = [1,3,4,25,5,100,7]\n",
        "length = len(l)\n",
        "result = median(l, length)\n",
        "print(result)"
      ],
      "metadata": {
        "colab": {
          "base_uri": "https://localhost:8080/"
        },
        "id": "RC5dH_kCqfZM",
        "outputId": "7188f5fa-e2b6-4892-833a-07bd7c44065b"
      },
      "execution_count": null,
      "outputs": [
        {
          "output_type": "stream",
          "name": "stdout",
          "text": [
            "5\n"
          ]
        }
      ]
    },
    {
      "cell_type": "markdown",
      "source": [
        "16. Implement a function to check if a given list is sorted in non-decreasing order."
      ],
      "metadata": {
        "id": "4-PoUEoguJD2"
      }
    },
    {
      "cell_type": "code",
      "source": [
        "def CheckSort(l):\n",
        "  if sorted(l) == l:\n",
        "    return True\n",
        "  else:\n",
        "    return False\n",
        "\n",
        "l = [1,3,4,25,5,100,7]\n",
        "result = CheckSort(l)\n",
        "print(result)"
      ],
      "metadata": {
        "colab": {
          "base_uri": "https://localhost:8080/"
        },
        "id": "2GjL9nvxs4Xm",
        "outputId": "5ab0a114-3e09-414e-b7f5-b2d4cbf0d267"
      },
      "execution_count": null,
      "outputs": [
        {
          "output_type": "stream",
          "name": "stdout",
          "text": [
            "False\n"
          ]
        }
      ]
    },
    {
      "cell_type": "markdown",
      "source": [
        "17.Write a Python program to find the intersection of two list"
      ],
      "metadata": {
        "id": "hCtDfqn-XBOR"
      }
    },
    {
      "cell_type": "code",
      "source": [
        "def intersection(l1,l2):\n",
        "  return(list(set(l1)&set(l2)))\n",
        "\n",
        "l1 = [9, 9, 74, 21, 45, 11, 63]\n",
        "l2 = [4, 9, 1, 17, 11, 26, 28, 28, 26, 66, 91]\n",
        "result = intersection(l1,l2)\n",
        "print(result)"
      ],
      "metadata": {
        "colab": {
          "base_uri": "https://localhost:8080/"
        },
        "id": "Z6iJja87XJZh",
        "outputId": "1989cdc1-9d8d-4825-9066-3228d3851d04"
      },
      "execution_count": null,
      "outputs": [
        {
          "output_type": "stream",
          "name": "stdout",
          "text": [
            "[9, 11]\n"
          ]
        }
      ]
    },
    {
      "cell_type": "markdown",
      "source": [
        "18. Implement a function to find the maximum subarray sum in a given list"
      ],
      "metadata": {
        "id": "riqvICEYZIPJ"
      }
    },
    {
      "cell_type": "code",
      "source": [
        "def maximumSubarraySum(arr):\n",
        "  n = len(arr)\n",
        "  maxSum = -1e8\n",
        "  currSum = 0\n",
        "  for i in range(0, n):\n",
        "    currSum = currSum + arr[i]\n",
        "    if(currSum > maxSum):\n",
        "      maxSum = currSum\n",
        "    if(currSum < 0):\n",
        "      currSum = 0\n",
        "  return maxSum\n",
        "\n",
        "arr = [1, 3, 8, -2, 6, -8, 5]\n",
        "result = maximumSubarraySum(arr)\n",
        "print(result);"
      ],
      "metadata": {
        "colab": {
          "base_uri": "https://localhost:8080/"
        },
        "id": "OQeRXG0sY7_Q",
        "outputId": "6ad95bc6-1c7c-437d-fa78-ed680c4554f5"
      },
      "execution_count": null,
      "outputs": [
        {
          "output_type": "stream",
          "name": "stdout",
          "text": [
            "16\n"
          ]
        }
      ]
    },
    {
      "cell_type": "markdown",
      "source": [
        "19. Write a program to remove all vowels from a given string."
      ],
      "metadata": {
        "id": "dcZUduyiMBbj"
      }
    },
    {
      "cell_type": "code",
      "source": [
        "def removevowels(input):\n",
        "  vowels  = ['a','e','i','o','u']\n",
        "  result = list()\n",
        "  for i in input:\n",
        "    if i not in vowels:\n",
        "      result.append(i)\n",
        "  return ''.join(result)\n",
        "\n",
        "input = 'Program of removing vowels'\n",
        "result = removevowels(input)\n",
        "print(result)"
      ],
      "metadata": {
        "id": "gxS5TCOUeSA9",
        "colab": {
          "base_uri": "https://localhost:8080/"
        },
        "outputId": "11d300e7-07e4-40fc-8e8b-857e5f6cf7d7"
      },
      "execution_count": null,
      "outputs": [
        {
          "output_type": "stream",
          "name": "stdout",
          "text": [
            "Prgrm f rmvng vwls\n"
          ]
        }
      ]
    },
    {
      "cell_type": "markdown",
      "source": [
        "20. Implement a function to reverse the order of words in a given sentence."
      ],
      "metadata": {
        "id": "t0iQ-2wOOb_t"
      }
    },
    {
      "cell_type": "code",
      "source": [
        "def reverse_words(sentence):\n",
        "  words = sentence.split()\n",
        "  reversed_words = []\n",
        "  for word in words[::-1]:\n",
        "    reversed_words.append(word)\n",
        "  return \" \".join(reversed_words)\n",
        "\n",
        "\n",
        "sentence = \"This is a sentence.\"\n",
        "result = reverse_words(sentence)\n",
        "print(result)"
      ],
      "metadata": {
        "id": "xpOdes9fN0FZ",
        "colab": {
          "base_uri": "https://localhost:8080/"
        },
        "outputId": "54f8b3f8-350f-4236-a0f3-19d922ab3f88"
      },
      "execution_count": 20,
      "outputs": [
        {
          "output_type": "stream",
          "name": "stdout",
          "text": [
            "sentence. a is This\n"
          ]
        }
      ]
    },
    {
      "cell_type": "markdown",
      "source": [
        "21. Write a Python program to check if two strings are anagrams of each other."
      ],
      "metadata": {
        "id": "ImAL1m03QLO9"
      }
    },
    {
      "cell_type": "code",
      "source": [
        "def CheckAnagram(l1,l2):\n",
        "  if sorted(l1) == sorted(l2):\n",
        "    return True\n",
        "  else:\n",
        "    return False\n",
        "\n",
        "l1 = 'abcd'\n",
        "l2 = 'dacb'\n",
        "result = CheckAnagram(l1,l2)\n",
        "print(result)"
      ],
      "metadata": {
        "colab": {
          "base_uri": "https://localhost:8080/"
        },
        "id": "Nn_XxcCNOE9z",
        "outputId": "031a1601-1121-4860-de28-0eac7dfab9dd"
      },
      "execution_count": null,
      "outputs": [
        {
          "output_type": "stream",
          "name": "stdout",
          "text": [
            "True\n"
          ]
        }
      ]
    },
    {
      "cell_type": "markdown",
      "source": [
        "22. Implement a function to find the first non-repeating character in a string."
      ],
      "metadata": {
        "id": "K3Lf3J1GQx8G"
      }
    },
    {
      "cell_type": "code",
      "source": [
        "def first_non_repeating_character(string):\n",
        "  char_counts = {}\n",
        "  for character in string:\n",
        "    if character in char_counts:\n",
        "      char_counts[character] += 1\n",
        "    else:\n",
        "      char_counts[character] = 1\n",
        "  for character, count in char_counts.items():\n",
        "    if count == 1:\n",
        "      return character\n",
        "  return None\n",
        "\n",
        "string = \"helloworld\"\n",
        "result = first_non_repeating_character(string)\n",
        "print(result)"
      ],
      "metadata": {
        "id": "c7-6OJlkQsmj",
        "colab": {
          "base_uri": "https://localhost:8080/"
        },
        "outputId": "47cbb8fb-d139-4ac8-884b-6cd7527ce02f"
      },
      "execution_count": 19,
      "outputs": [
        {
          "output_type": "stream",
          "name": "stdout",
          "text": [
            "h\n"
          ]
        }
      ]
    },
    {
      "cell_type": "markdown",
      "source": [
        "23. Write a program to find the prime factors of a given number.\n"
      ],
      "metadata": {
        "id": "j4s9il24Sa3A"
      }
    },
    {
      "cell_type": "code",
      "source": [
        "def primefactors(n):\n",
        "  while n%2 == 0:\n",
        "    print(2)\n",
        "    n = n/2\n",
        "  for i in range(3,int(n**0.5),2):\n",
        "    while n%i == 0:\n",
        "      print(i)\n",
        "      n = n/i\n",
        "  if n>2:\n",
        "    print(n)\n",
        "\n",
        "n = 315\n",
        "primefactors(n)"
      ],
      "metadata": {
        "colab": {
          "base_uri": "https://localhost:8080/"
        },
        "id": "vIsm5E46SdYl",
        "outputId": "8699e0e3-8c26-44f2-8e29-fbd5333b266d"
      },
      "execution_count": null,
      "outputs": [
        {
          "output_type": "stream",
          "name": "stdout",
          "text": [
            "3\n",
            "3\n",
            "5\n",
            "7\n"
          ]
        }
      ]
    },
    {
      "cell_type": "markdown",
      "source": [
        "24. Implement a function to check if a given number is a power of two"
      ],
      "metadata": {
        "id": "tsOu_3mqYVWC"
      }
    },
    {
      "cell_type": "code",
      "source": [
        "def poweroftwo(n):\n",
        "  while n%2 == 0:\n",
        "    n = n/2\n",
        "  if n == 1:\n",
        "    return True\n",
        "  else:\n",
        "    return False\n",
        "\n",
        "\n",
        "n = 64\n",
        "result = poweroftwo(n)\n",
        "print(result)\n"
      ],
      "metadata": {
        "colab": {
          "base_uri": "https://localhost:8080/"
        },
        "id": "HY_u9YggVlpH",
        "outputId": "6ba07758-0a2a-4bca-bfa5-a3e24b246137"
      },
      "execution_count": null,
      "outputs": [
        {
          "output_type": "stream",
          "name": "stdout",
          "text": [
            "True\n"
          ]
        }
      ]
    },
    {
      "cell_type": "markdown",
      "source": [
        "25. Write a Python program to merge two sorted lists into a single sorted list.\n"
      ],
      "metadata": {
        "id": "IK4j-_8DagmT"
      }
    },
    {
      "cell_type": "code",
      "source": [
        "def SortedMerge(l1,l2):\n",
        "  return sorted(l1+l2)\n",
        "\n",
        "L1 = [1,2,5,9,11]\n",
        "L2 = [3,4,6,7,8,10]\n",
        "result = SortedMerge(L1,L2)\n",
        "print(result)\n"
      ],
      "metadata": {
        "colab": {
          "base_uri": "https://localhost:8080/"
        },
        "id": "ivcC3wYNVp5D",
        "outputId": "da1320e5-e4c6-4bc3-eeff-4bb6631a1959"
      },
      "execution_count": null,
      "outputs": [
        {
          "output_type": "stream",
          "name": "stdout",
          "text": [
            "[1, 2, 3, 4, 5, 6, 7, 8, 9, 10, 11]\n"
          ]
        }
      ]
    },
    {
      "cell_type": "markdown",
      "source": [
        "26. Implement a function to find the mode of a list of numbers.\n"
      ],
      "metadata": {
        "id": "OixSKxG2dgEi"
      }
    },
    {
      "cell_type": "code",
      "source": [
        "def mode(list):\n",
        "  counts = {}\n",
        "  for number in list:\n",
        "    if number in counts:\n",
        "      counts[number] += 1\n",
        "    else:\n",
        "      counts[number] = 1\n",
        "  max_count = 0\n",
        "  mode = None\n",
        "  for number, count in counts.items():\n",
        "    if count > max_count:\n",
        "      max_count = count\n",
        "      mode = number\n",
        "  return mode\n",
        "list = [1,2,2,3,3,3,4,5,5,5,5,7]\n",
        "result = mode(l)\n",
        "print(result)"
      ],
      "metadata": {
        "colab": {
          "base_uri": "https://localhost:8080/"
        },
        "id": "HMD3mHzKbwMa",
        "outputId": "42fd5a4b-a1f5-4d0a-e6d2-9b8759eea868"
      },
      "execution_count": 17,
      "outputs": [
        {
          "output_type": "stream",
          "name": "stdout",
          "text": [
            "5\n"
          ]
        }
      ]
    },
    {
      "cell_type": "markdown",
      "source": [
        "27. Write a program to find the greatest common divisor (GCD) of two numbers."
      ],
      "metadata": {
        "id": "_MjWZmy7yNOj"
      }
    },
    {
      "cell_type": "code",
      "source": [
        "def gcd(a, b):\n",
        "  while b != 0:\n",
        "    a, b = b, a % b\n",
        "  return a\n",
        "\n",
        "a = 10\n",
        "b = 15\n",
        "result = gcd(a,b)\n",
        "print(result)"
      ],
      "metadata": {
        "colab": {
          "base_uri": "https://localhost:8080/"
        },
        "id": "HdE6GwCycKti",
        "outputId": "7a49dc57-9bfd-4010-a210-20f2b21bacbf"
      },
      "execution_count": 16,
      "outputs": [
        {
          "output_type": "stream",
          "name": "stdout",
          "text": [
            "5\n"
          ]
        }
      ]
    },
    {
      "cell_type": "markdown",
      "source": [
        "28. Implement a function to calculate the square root of a given number."
      ],
      "metadata": {
        "id": "bZlOJGjhySLS"
      }
    },
    {
      "cell_type": "code",
      "source": [
        "def squareroot(n):\n",
        "  if n < 0 :\n",
        "    return -1\n",
        "  if n == 0:\n",
        "    return 0\n",
        "  guess = n/2\n",
        "  while True:\n",
        "    new_guess = (guess + n/guess)/2\n",
        "    if abs(new_guess-guess)<1e-9:\n",
        "      return new_guess\n",
        "    guess = new_guess\n",
        "\n",
        "\n",
        "n = 8\n",
        "result = squareroot(n)\n",
        "print(result)"
      ],
      "metadata": {
        "colab": {
          "base_uri": "https://localhost:8080/"
        },
        "id": "X2KflV2Kz_-a",
        "outputId": "291cbcbd-43eb-4445-90b5-788ed212febe"
      },
      "execution_count": 1,
      "outputs": [
        {
          "output_type": "stream",
          "name": "stdout",
          "text": [
            "2.82842712474619\n"
          ]
        }
      ]
    },
    {
      "cell_type": "markdown",
      "source": [
        "29. Write a Python program to check if a given string is a valid palindrome ignoring non-alphanumeric characters."
      ],
      "metadata": {
        "id": "ZzkTPKWe2NGM"
      }
    },
    {
      "cell_type": "code",
      "source": [
        "import re\n",
        "\n",
        "def is_valid_palindrome(string):\n",
        "    string = re.sub(r'\\W+', '', string)\n",
        "    string = string.lower()\n",
        "    return string == string[::-1]\n",
        "\n",
        "\n",
        "string = \"A man, a plan, a canal, Panama!\"\n",
        "result = is_valid_palindrome(string)\n",
        "print(result)\n",
        "\n"
      ],
      "metadata": {
        "colab": {
          "base_uri": "https://localhost:8080/"
        },
        "id": "_wkUsTHC2Hbd",
        "outputId": "7f9aa982-2d9b-4c88-b8ba-21dbd7b2ada8"
      },
      "execution_count": 3,
      "outputs": [
        {
          "output_type": "stream",
          "name": "stdout",
          "text": [
            "True\n"
          ]
        }
      ]
    },
    {
      "cell_type": "markdown",
      "source": [
        "30. Implement a function to find the minimum element in a rotated sorted list.\n"
      ],
      "metadata": {
        "id": "pxl-9NNi6Zvy"
      }
    },
    {
      "cell_type": "code",
      "source": [
        "def find_minimum_element(list):\n",
        "  low = 0\n",
        "  high = len(list) - 1\n",
        "  while low < high:\n",
        "    mid = low + (high - low) // 2\n",
        "    if list[mid] > list[high]:\n",
        "      low = mid + 1\n",
        "    else:\n",
        "      high = mid\n",
        "  return list[low]\n",
        "\n",
        "list = [3, 4, 5, 1, 2]\n",
        "result = find_minimum_element(list)\n",
        "print(result)"
      ],
      "metadata": {
        "colab": {
          "base_uri": "https://localhost:8080/"
        },
        "id": "gvk4HxbB5Coq",
        "outputId": "394b7bab-f562-43fa-9fde-8cbde755d316"
      },
      "execution_count": 15,
      "outputs": [
        {
          "output_type": "stream",
          "name": "stdout",
          "text": [
            "1\n"
          ]
        }
      ]
    },
    {
      "cell_type": "markdown",
      "source": [
        "31. Write a program to find the sum of all even numbers in a list.\n"
      ],
      "metadata": {
        "id": "rPM7G8ts6ijh"
      }
    },
    {
      "cell_type": "code",
      "source": [
        "def evensum(l):\n",
        "  sum = 0\n",
        "  for i in l:\n",
        "    if i%2 == 0:\n",
        "      sum = i + sum\n",
        "  return sum\n",
        "\n",
        "l = [1,2,3,4,5,6,7,8,9]\n",
        "result = evensum(l)\n",
        "print(result)"
      ],
      "metadata": {
        "colab": {
          "base_uri": "https://localhost:8080/"
        },
        "id": "xglEb7sj5FcB",
        "outputId": "7190f1de-a415-4d6f-de13-0fb32afea9ef"
      },
      "execution_count": 4,
      "outputs": [
        {
          "output_type": "stream",
          "name": "stdout",
          "text": [
            "20\n"
          ]
        }
      ]
    },
    {
      "cell_type": "markdown",
      "source": [
        "32. Implement a function to calculate the power of a number using recursion.\n"
      ],
      "metadata": {
        "id": "-aPwolhV7B9v"
      }
    },
    {
      "cell_type": "code",
      "source": [
        "def power(n,ex):\n",
        "  if ex == 0:\n",
        "    return 1\n",
        "  else:\n",
        "    return n*power(n,ex-1)\n",
        "\n",
        "n = 8\n",
        "ex = 2\n",
        "result = power(n,ex)\n",
        "print(result)"
      ],
      "metadata": {
        "colab": {
          "base_uri": "https://localhost:8080/"
        },
        "id": "c0iCgmkz6_Lc",
        "outputId": "a334eafd-c9a8-4949-c697-3d41138c2481"
      },
      "execution_count": 7,
      "outputs": [
        {
          "output_type": "stream",
          "name": "stdout",
          "text": [
            "64\n"
          ]
        }
      ]
    },
    {
      "cell_type": "markdown",
      "source": [
        "33. Write a Python program to remove duplicates from a list while preserving the order.\n"
      ],
      "metadata": {
        "id": "x4WJxC4C85X4"
      }
    },
    {
      "cell_type": "code",
      "source": [
        "def duplicate(l):\n",
        "  seen = list()\n",
        "  result = list()\n",
        "  for i in l:\n",
        "    if i not in seen:\n",
        "      result.append(i)\n",
        "      seen.append(i)\n",
        "  return result\n",
        "\n",
        "l= [1,5,5,5,3,3,2,2,2,1]\n",
        "result = duplicate(l)\n",
        "print(result)"
      ],
      "metadata": {
        "colab": {
          "base_uri": "https://localhost:8080/"
        },
        "id": "vJZ9BMUo8UMl",
        "outputId": "eaed2024-d175-4d79-df0b-62bf896e292f"
      },
      "execution_count": 13,
      "outputs": [
        {
          "output_type": "stream",
          "name": "stdout",
          "text": [
            "[1, 5, 3, 2]\n"
          ]
        }
      ]
    },
    {
      "cell_type": "markdown",
      "source": [
        "34. Implement a function to find the longest common prefix among a list of strings.\n"
      ],
      "metadata": {
        "id": "ei_FuZ7f_Rio"
      }
    },
    {
      "cell_type": "code",
      "source": [
        "def longest_common_prefix(strings):\n",
        "\n",
        "  if not strings:\n",
        "    return \"\"\n",
        "  else:\n",
        "    prefix = strings[0]\n",
        "    for string in strings[1:]:\n",
        "      while not string.startswith(prefix):\n",
        "        prefix = prefix[:-1]\n",
        "      if not prefix:\n",
        "        return \"\"\n",
        "    return prefix\n",
        "\n",
        "strings = [\"flower\", \"flow\", \"flo\"]\n",
        "result = longest_common_prefix(strings)\n",
        "print(result)"
      ],
      "metadata": {
        "colab": {
          "base_uri": "https://localhost:8080/"
        },
        "id": "g5OjezEy9Uxd",
        "outputId": "a70beb92-7750-4af8-f970-2903310f6919"
      },
      "execution_count": 14,
      "outputs": [
        {
          "output_type": "stream",
          "name": "stdout",
          "text": [
            "flo\n"
          ]
        }
      ]
    },
    {
      "cell_type": "markdown",
      "source": [
        "35. Write a program to check if a given number is a perfect square.\n"
      ],
      "metadata": {
        "id": "gLZ003GwAlJW"
      }
    },
    {
      "cell_type": "code",
      "source": [
        "def is_perfect_number(number):\n",
        "  sum_of_divisors = 1\n",
        "  for i in range(2, int(number**0.5) + 1):\n",
        "    if number % i == 0:\n",
        "      sum_of_divisors += i\n",
        "      sum_of_divisors += number // i\n",
        "  return sum_of_divisors == number\n",
        "\n",
        "number = 6\n",
        "result = is_perfect_number(number)\n",
        "print(result)"
      ],
      "metadata": {
        "colab": {
          "base_uri": "https://localhost:8080/"
        },
        "id": "VPM1QCw4Alvt",
        "outputId": "84b4411f-3fd4-4b3f-a548-d97cbc10e03a"
      },
      "execution_count": 12,
      "outputs": [
        {
          "output_type": "stream",
          "name": "stdout",
          "text": [
            "True\n"
          ]
        }
      ]
    },
    {
      "cell_type": "markdown",
      "source": [
        "36. Implement a function to calculate the product of all elements in a list.\n"
      ],
      "metadata": {
        "id": "V_tswOECAmfi"
      }
    },
    {
      "cell_type": "code",
      "source": [
        "def product(l):\n",
        "  prod = 1\n",
        "  for i in l:\n",
        "    prod = i*prod\n",
        "  return prod\n",
        "l= [1,5,5,5,3,3,2,2,2,1]\n",
        "result = product(l)\n",
        "print(result)"
      ],
      "metadata": {
        "colab": {
          "base_uri": "https://localhost:8080/"
        },
        "id": "FAuesnjwAopR",
        "outputId": "4539073f-7947-4db9-cbe8-31e207c81738"
      },
      "execution_count": 14,
      "outputs": [
        {
          "output_type": "stream",
          "name": "stdout",
          "text": [
            "9000\n"
          ]
        }
      ]
    },
    {
      "cell_type": "markdown",
      "source": [
        "37. Write a Python program to reverse the order of words in a sentence while preserving the word order."
      ],
      "metadata": {
        "id": "uz2xap9ZBXpK"
      }
    },
    {
      "cell_type": "code",
      "source": [
        "def reversewords(string):\n",
        "  words = string.split()\n",
        "  result = words[::-1]\n",
        "  return ' '.join(result)\n",
        "string = \"A man plans canal in Panama\"\n",
        "result = reversewords(string)\n",
        "print(result)"
      ],
      "metadata": {
        "colab": {
          "base_uri": "https://localhost:8080/"
        },
        "id": "_5qDe6a3A-Vb",
        "outputId": "fc058e9e-f0e9-494c-d3d6-1f53f6124dae"
      },
      "execution_count": 28,
      "outputs": [
        {
          "output_type": "stream",
          "name": "stdout",
          "text": [
            "Panama in canal plans man A\n"
          ]
        }
      ]
    },
    {
      "cell_type": "markdown",
      "source": [
        "38. Implement a function to find the missing number in a given list of consecutive numbers.\n"
      ],
      "metadata": {
        "id": "2kRP_TJfEADg"
      }
    },
    {
      "cell_type": "code",
      "source": [
        "def find_missing_number(numbers):\n",
        "    n = len(numbers) + 1\n",
        "    expected_sum = (n * (n + 1)) // 2\n",
        "    actual_sum = sum(numbers)\n",
        "    missing_number = expected_sum - actual_sum\n",
        "    return missing_number\n",
        "\n",
        "numbers = [1, 2, 3, 5, 6, 7, 8]\n",
        "result = find_missing_number(numbers)\n",
        "print(result)\n"
      ],
      "metadata": {
        "colab": {
          "base_uri": "https://localhost:8080/"
        },
        "id": "r1_NZMExCQxU",
        "outputId": "ca6c6f37-dcbf-4fa8-e8ab-3ebf265bded0"
      },
      "execution_count": 31,
      "outputs": [
        {
          "output_type": "stream",
          "name": "stdout",
          "text": [
            "4\n"
          ]
        }
      ]
    },
    {
      "cell_type": "markdown",
      "source": [
        "39. Write a program to find the sum of digits of a given number.\n"
      ],
      "metadata": {
        "id": "RVS84aOyGcN-"
      }
    },
    {
      "cell_type": "code",
      "source": [
        "def sumdigits(n):\n",
        "  string = str(n)\n",
        "  result = 0\n",
        "  for i in string:\n",
        "    result = int(i) + result\n",
        "  return result\n",
        "\n",
        "n = 143\n",
        "result = sumdigits(n)\n",
        "print(result)"
      ],
      "metadata": {
        "colab": {
          "base_uri": "https://localhost:8080/"
        },
        "id": "_VgbDRg6Deda",
        "outputId": "096093b7-e849-4392-b59d-54fb1ad6944b"
      },
      "execution_count": 37,
      "outputs": [
        {
          "output_type": "stream",
          "name": "stdout",
          "text": [
            "8\n"
          ]
        }
      ]
    },
    {
      "cell_type": "markdown",
      "source": [
        "40. Implement a function to check if a given string is a valid palindrome considering case sensitivity.\n"
      ],
      "metadata": {
        "id": "BCohrfNXIWKd"
      }
    },
    {
      "cell_type": "code",
      "source": [
        "def check_palindrome(string):\n",
        "  if string == string[::-1]:\n",
        "    return True\n",
        "  else:\n",
        "    return False\n",
        "\n",
        "string = 'Malayalam'\n",
        "result  = check_palindrome(string)\n",
        "print(result)"
      ],
      "metadata": {
        "colab": {
          "base_uri": "https://localhost:8080/"
        },
        "id": "l-qWBPdEIYp7",
        "outputId": "dcb1e3b9-ad4e-4298-958d-d4de4279abb3"
      },
      "execution_count": 45,
      "outputs": [
        {
          "output_type": "stream",
          "name": "stdout",
          "text": [
            "False\n"
          ]
        }
      ]
    },
    {
      "cell_type": "markdown",
      "source": [
        "41. Write a Python program to find the smallest missing positive integer in a list.\n"
      ],
      "metadata": {
        "id": "yGPrMlHYJOUs"
      }
    },
    {
      "cell_type": "code",
      "source": [
        "def find_smallest_missing_positive(nums):\n",
        "    n = len(nums)\n",
        "    for i in range(n):\n",
        "        while 1 <= nums[i] <= n and nums[nums[i] - 1] != nums[i]:\n",
        "            nums[nums[i] - 1], nums[i] = nums[i], nums[nums[i] - 1]\n",
        "\n",
        "    for i in range(n):\n",
        "        if nums[i] != i + 1:\n",
        "            return i + 1\n",
        "    return n + 1\n",
        "\n",
        "numbers = [3, 4, -1, 1]\n",
        "result = find_smallest_missing_positive(numbers)\n",
        "print(result)\n"
      ],
      "metadata": {
        "colab": {
          "base_uri": "https://localhost:8080/"
        },
        "id": "Aj_kzd73I11v",
        "outputId": "6ba6d4b9-1a36-4691-b51f-a937748066bb"
      },
      "execution_count": 46,
      "outputs": [
        {
          "output_type": "stream",
          "name": "stdout",
          "text": [
            "2\n"
          ]
        }
      ]
    },
    {
      "cell_type": "markdown",
      "source": [
        "42. Implement a function to find the longest palindrome substring in a given string."
      ],
      "metadata": {
        "id": "GUn0huvTqPfx"
      }
    },
    {
      "cell_type": "code",
      "source": [
        "def longest_palindrome(string):\n",
        "  longest_palindrome = \"\"\n",
        "  for i in range(len(string)):\n",
        "    for j in range(i, len(string)):\n",
        "      if string[i:j + 1] == string[i:j + 1][::-1] and len(string[i:j + 1]) > len(longest_palindrome):\n",
        "        longest_palindrome = string[i:j + 1]\n",
        "  return longest_palindrome\n",
        "\n",
        "string = \"babad\"\n",
        "result = longest_palindrome(string)\n",
        "print(result)"
      ],
      "metadata": {
        "colab": {
          "base_uri": "https://localhost:8080/"
        },
        "id": "bGEzlQPeI-yE",
        "outputId": "501b6e33-96ba-4a9f-99aa-94fd247d31c0"
      },
      "execution_count": 11,
      "outputs": [
        {
          "output_type": "stream",
          "name": "stdout",
          "text": [
            "bab\n"
          ]
        }
      ]
    },
    {
      "cell_type": "markdown",
      "source": [
        "43. Write a program to find the number of occurrences of a given element in a list.\n"
      ],
      "metadata": {
        "id": "sd7DrUS-qZYX"
      }
    },
    {
      "cell_type": "code",
      "source": [
        "def Countocurrance(l,e):\n",
        "  count = 0\n",
        "  for i in l:\n",
        "    if i == e:\n",
        "      count = count +1\n",
        "  return count\n",
        "\n",
        "l= [1,5,5,5,3,3,2,2,2,1]\n",
        "e = 5\n",
        "result = Countocurrance(l,e)\n",
        "print(result)\n"
      ],
      "metadata": {
        "colab": {
          "base_uri": "https://localhost:8080/"
        },
        "id": "S_ajkMHCJBg3",
        "outputId": "9b127c6e-233f-4bc2-afa0-244b4cf292d3"
      },
      "execution_count": 1,
      "outputs": [
        {
          "output_type": "stream",
          "name": "stdout",
          "text": [
            "3\n"
          ]
        }
      ]
    },
    {
      "cell_type": "markdown",
      "source": [
        "44. Implement a function to check if a given number is a perfect number"
      ],
      "metadata": {
        "id": "u9g10KxjsfxB"
      }
    },
    {
      "cell_type": "code",
      "source": [
        "def is_perfect_number(number):\n",
        "  sum_of_divisors = 1\n",
        "  for i in range(2, int(number**0.5) + 1):\n",
        "    if number % i == 0:\n",
        "      sum_of_divisors += i\n",
        "      sum_of_divisors += number // i\n",
        "  return sum_of_divisors == number\n",
        "\n",
        "number = 6\n",
        "result = is_perfect_number(number)\n",
        "print(result)"
      ],
      "metadata": {
        "colab": {
          "base_uri": "https://localhost:8080/"
        },
        "id": "-gtlki0HsR3Q",
        "outputId": "a1d4e085-f959-488f-a634-6259a63e5e55"
      },
      "execution_count": 4,
      "outputs": [
        {
          "output_type": "stream",
          "name": "stdout",
          "text": [
            "True\n"
          ]
        }
      ]
    },
    {
      "cell_type": "markdown",
      "source": [
        "45. Write a Python program to remove all duplicates from a string"
      ],
      "metadata": {
        "id": "LYQ6FRK1tlyM"
      }
    },
    {
      "cell_type": "code",
      "source": [
        "def removeduplicates(string):\n",
        "  scan = list()\n",
        "  result = list()\n",
        "  for i in string:\n",
        "    if i not in scan:\n",
        "      scan.append(i)\n",
        "      result.append(i)\n",
        "  return ''.join(result)\n",
        "\n",
        "string = \"A man plans canal in Panama\"\n",
        "result = removeduplicates(string)\n",
        "print(result)"
      ],
      "metadata": {
        "colab": {
          "base_uri": "https://localhost:8080/"
        },
        "id": "bhb-0Q6ctbzm",
        "outputId": "b85b55a5-320d-481b-eb9f-5b20d222525f"
      },
      "execution_count": 9,
      "outputs": [
        {
          "output_type": "stream",
          "name": "stdout",
          "text": [
            "A manplsciP\n"
          ]
        }
      ]
    },
    {
      "cell_type": "markdown",
      "source": [
        "46. Implement a function to find the first missing positive\n",
        "\n"
      ],
      "metadata": {
        "id": "PWvnput_vHVb"
      }
    },
    {
      "cell_type": "code",
      "source": [
        "def first_missing_positive(nums):\n",
        "\n",
        "  i = 0\n",
        "  while i < len(nums):\n",
        "    if nums[i] == 1:\n",
        "      i += 1\n",
        "    elif nums[i] <= 0 or nums[i] > len(nums):\n",
        "      nums[i] = 1\n",
        "    else:\n",
        "      current_number = nums[i]\n",
        "      index = current_number - 1\n",
        "      if nums[index] != current_number:\n",
        "        nums[index] = nums[i]\n",
        "        nums[i] = 1\n",
        "      else:\n",
        "        i += 1\n",
        "  for i in range(len(nums)):\n",
        "    if nums[i] != i + 1:\n",
        "      return i + 1\n",
        "  return -1\n",
        "\n",
        "\n",
        "\n",
        "nums = [1, 2, 0, 3, 4, 5]\n",
        "first_missing_positive = first_missing_positive(nums)\n",
        "print(f\"The first missing positive number is {first_missing_positive}\")\n"
      ],
      "metadata": {
        "colab": {
          "base_uri": "https://localhost:8080/"
        },
        "id": "E_6I0zqGuyYf",
        "outputId": "2a419053-076a-4a56-afcf-669d8de8918a"
      },
      "execution_count": 10,
      "outputs": [
        {
          "output_type": "stream",
          "name": "stdout",
          "text": [
            "The first missing positive number is 6\n"
          ]
        }
      ]
    },
    {
      "cell_type": "code",
      "source": [],
      "metadata": {
        "id": "ak2RH1abvuLi"
      },
      "execution_count": null,
      "outputs": []
    }
  ]
}